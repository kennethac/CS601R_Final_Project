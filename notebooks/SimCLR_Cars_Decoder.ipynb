{
  "nbformat": 4,
  "nbformat_minor": 0,
  "metadata": {
    "colab": {
      "name": "SimCLR_Cars_Decoder.ipynb",
      "provenance": [],
      "collapsed_sections": []
    },
    "kernelspec": {
      "name": "python3",
      "display_name": "Python 3"
    },
    "accelerator": "GPU"
  },
  "cells": [
    {
      "cell_type": "code",
      "metadata": {
        "id": "Bg8E_b23lkP0",
        "colab_type": "code",
        "colab": {}
      },
      "source": [
        "import torch\n",
        "import torchvision\n",
        "import torchvision.datasets\n",
        "import torchvision.transforms as transforms\n",
        "\n",
        "import torch.nn as nn\n",
        "import torch.nn.functional as F\n",
        "import torch.optim as optim\n",
        "from torch.utils.data import Dataset, DataLoader\n",
        "import numpy as np\n",
        "import matplotlib.pyplot as plt\n",
        "from tqdm import tqdm\n",
        "import random\n",
        "import pandas as pd\n",
        "import importlib\n",
        "from torch.utils.data.sampler import SubsetRandomSampler\n",
        "\n",
        "from IPython.core.ultratb import AutoFormattedTB\n",
        "\n",
        "__ITB__ = AutoFormattedTB(mode = 'Verbose',color_scheme='LightBg', tb_offset = 1)\n",
        "\n",
        "assert torch.cuda.is_available(), \"You need to request a GPU from Runtime > Change Runtime\""
      ],
      "execution_count": 0,
      "outputs": []
    },
    {
      "cell_type": "code",
      "metadata": {
        "id": "pQ6TXy33R6w0",
        "colab_type": "code",
        "colab": {}
      },
      "source": [
        "from google.colab import drive\n",
        "drive.mount(\"/content/gdrive\")"
      ],
      "execution_count": 0,
      "outputs": []
    },
    {
      "cell_type": "code",
      "metadata": {
        "id": "wW4TA2f-U51N",
        "colab_type": "code",
        "outputId": "9a382f00-6224-4807-b69d-9f56df8b730a",
        "colab": {
          "base_uri": "https://localhost:8080/",
          "height": 125
        }
      },
      "source": [
        "!rm -rf CS601R_Final_Project/ models/ datasets/ notebooks/\n",
        "!git clone https://github.com/webMan1/CS601R_Final_Project.git\n",
        "!cp -r CS601R_Final_Project/* ."
      ],
      "execution_count": 0,
      "outputs": [
        {
          "output_type": "stream",
          "text": [
            "Cloning into 'CS601R_Final_Project'...\n",
            "remote: Enumerating objects: 99, done.\u001b[K\n",
            "remote: Counting objects: 100% (99/99), done.\u001b[K\n",
            "remote: Compressing objects: 100% (73/73), done.\u001b[K\n",
            "remote: Total 99 (delta 49), reused 72 (delta 22), pack-reused 0\u001b[K\n",
            "Unpacking objects: 100% (99/99), done.\n"
          ],
          "name": "stdout"
        }
      ]
    },
    {
      "cell_type": "code",
      "metadata": {
        "id": "O4hStpoTVP6D",
        "colab_type": "code",
        "colab": {}
      },
      "source": [
        "import datasets.EncodedStanfordCarsDataset\n",
        "import models.CLRDecoder\n",
        "import importlib\n",
        "\n",
        "datasets.EncodedStanfordCarsDataset = importlib.reload(datasets.EncodedStanfordCarsDataset)\n",
        "models.CLRDecoder = importlib.reload(models.CLRDecoder)\n",
        "\n",
        "CLRDecoder = models.CLRDecoder.CLRDecoder"
      ],
      "execution_count": 0,
      "outputs": []
    },
    {
      "cell_type": "markdown",
      "metadata": {
        "id": "1MJ2LgwKX5hV",
        "colab_type": "text"
      },
      "source": [
        "# Training Loop"
      ]
    },
    {
      "cell_type": "code",
      "metadata": {
        "id": "jUOFnkxGX47o",
        "colab_type": "code",
        "colab": {}
      },
      "source": [
        "def train(model, optimizer, train_loader, valid_loader, num_epochs:int, valid_freq:int=10):\n",
        "  train_len = len(train_loader)\n",
        "  valid_len = len(valid_loader)\n",
        "  loop = tqdm(total=(num_epochs * train_len + (num_epochs // valid_freq) * valid_len), position=0)\n",
        "\n",
        "  train_losses = []\n",
        "  train_accs = []\n",
        "\n",
        "  valid_losses = []\n",
        "  valid_accs = []\n",
        "\n",
        "  criteria = nn.CrossEntropyLoss()\n",
        "\n",
        "  for e in range(num_epochs):\n",
        "    loss_builder = []\n",
        "    acc_builder = []\n",
        "\n",
        "    for i, (x, y_truth) in enumerate(train_loader):\n",
        "      x, y_truth = x.cuda(async=False), y_truth.long().squeeze(1).cuda(async=False)\n",
        "      optimizer.zero_grad()\n",
        "      \n",
        "      y_hat = model(x)\n",
        "\n",
        "      total_loss = criteria(y_hat, y_truth)\n",
        "      total_loss.backward()\n",
        "\n",
        "      acc = y_truth.eq(y_hat.argmax(1)).sum().item() / len(y_truth)\n",
        "\n",
        "      optimizer.step()\n",
        "\n",
        "      loss_builder.append(total_loss.item())\n",
        "      acc_builder.append(acc)\n",
        "\n",
        "      loop.update(1)\n",
        "      loop.set_description(f\"Epoch: {e}, it: {i}/{train_len}. Loss: {total_loss.item()}. Acc: {acc}\")\n",
        "    \n",
        "    train_accs.append(acc_builder)\n",
        "    train_losses.append(loss_builder)\n",
        "\n",
        "    if e % valid_freq == 0:\n",
        "      loss_builder = []\n",
        "      acc_builder = []\n",
        "\n",
        "      with torch.no_grad():\n",
        "        model.eval()\n",
        "\n",
        "        for i, (x, y_truth) in enumerate(valid_loader):\n",
        "          x, y_truth = x.cuda(async=False), y_truth.long().squeeze(1).cuda(async=False)\n",
        "\n",
        "        y_hat = model(x)\n",
        "\n",
        "        total_loss = criteria(y_hat, y_truth)\n",
        "        acc = y_truth.eq(y_hat.argmax(1)).sum().item() / len(y_truth)\n",
        "\n",
        "        loss_builder.append(total_loss.item())\n",
        "        acc_builder.append(acc)\n",
        "\n",
        "        loop.update(1)\n",
        "        loop.set_description(f\"[VALIDATING] Epoch: {e}, it: {i}/{valid_len}. Loss: {total_loss.item()}. Acc: {acc}\")\n",
        "\n",
        "      model.train()\n",
        "\n",
        "      valid_accs.append(acc_builder)\n",
        "      valid_losses.append(loss_builder)\n",
        "    \n",
        "    state = {\n",
        "        \"model\": model.state_dict(),\n",
        "        \"train_losses\": train_losses,\n",
        "        \"train_accs\": train_accs,\n",
        "        \"valid_losses\": valid_losses,\n",
        "        \"valid_accs\": valid_accs,\n",
        "        \"epoch\": e\n",
        "    }\n",
        "    num = ((e + 4) // 5) * 5\n",
        "    path = f\"/content/gdrive/My Drive/SimCLR/models/stanford/clr_cross_e_{num}_linear.mod\"\n",
        "    torch.save(state, path)\n",
        "\n",
        "  return train_losses, train_accs, valid_losses, valid_accs"
      ],
      "execution_count": 0,
      "outputs": []
    },
    {
      "cell_type": "code",
      "metadata": {
        "id": "dCs0rNj3YDZb",
        "colab_type": "code",
        "colab": {}
      },
      "source": [
        "def run_training():\n",
        "  batch_size = 64\n",
        "  model = CLRDecoder(196).cuda()\n",
        "  optimizer = optim.Adam(model.parameters())\n",
        "\n",
        "  train_loader = datasets.EncodedStanfordCarsDataset.get_loader(True, batch_size, True)\n",
        "  valid_loader = datasets.EncodedStanfordCarsDataset.get_loader(False, batch_size, True)\n",
        "\n",
        "  num_epochs = 71\n",
        "  \n",
        "  train_losses, train_accs, valid_losses, valid_accs = train(model, optimizer, train_loader, valid_loader, num_epochs=141, valid_freq=5)\n",
        "\n",
        "  return train_losses, train_accs, valid_losses, valid_accs"
      ],
      "execution_count": 0,
      "outputs": []
    },
    {
      "cell_type": "code",
      "metadata": {
        "id": "voqBJGrkYbEX",
        "colab_type": "code",
        "outputId": "a025e05a-c1fb-4dac-955b-21a77beba7c0",
        "colab": {
          "base_uri": "https://localhost:8080/",
          "height": 35
        }
      },
      "source": [
        "res1 = run_training()"
      ],
      "execution_count": 0,
      "outputs": [
        {
          "output_type": "stream",
          "text": [
            "[VALIDATING] Epoch: 140, it: 127/126. Loss: 4.159952640533447. Acc: 0.1875:  84%|████████▍ | 18077/21576 [02:19<00:25, 136.80it/s]"
          ],
          "name": "stderr"
        }
      ]
    },
    {
      "cell_type": "code",
      "metadata": {
        "id": "IrNh5oIDqjEi",
        "colab_type": "code",
        "colab": {}
      },
      "source": [
        "train_losses, train_accs, train_faccs, valid_losses, valid_accs, valid_faccs = res1"
      ],
      "execution_count": 0,
      "outputs": []
    },
    {
      "cell_type": "markdown",
      "metadata": {
        "id": "L-t7ZmX0qMj_",
        "colab_type": "text"
      },
      "source": [
        "# Test Results"
      ]
    },
    {
      "cell_type": "code",
      "metadata": {
        "id": "aYR7NBUJo6Ha",
        "colab_type": "code",
        "colab": {}
      },
      "source": [
        "def show_res(epoch:int, suffix:str):\n",
        "  save_loc = f\"/content/gdrive/My Drive/SimCLR/models/stanford/clr_e_{epoch}_linear.mod\"\n",
        "  state = torch.load(save_loc)\n",
        "  \n",
        "  epoch = state[\"epoch\"]\n",
        "  \n",
        "  train_losses, train_accs = state[\"train_losses\"], state[\"train_accs\"]\n",
        "  valid_losses, valid_accs = state[\"valid_losses\"], state[\"valid_accs\"]\n",
        "\n",
        "  train_loss_averages = [ np.mean(l) for l in train_losses]\n",
        "  valid_loss_averages = [ np.mean([i for i in l]) for l in valid_losses]\n",
        "\n",
        "  train_acc_averages = [ np.mean([i for i in l]) for l in train_accs]\n",
        "  valid_acc_averages = [ np.mean([i for i in l]) for l in valid_accs]\n",
        "\n",
        "  print(f\"Got to epoch {epoch}\")\n",
        "  plt.title(\"Cross Entropy Loss\")\n",
        "  plt.plot(train_loss_averages, label=\"Training\")\n",
        "  plt.plot(range(0, len(train_loss_averages), 5), valid_loss_averages, label=\"Validation\")\n",
        "  plt.xlabel(\"Epochs\")\n",
        "  plt.ylabel(\"Loss\")\n",
        "  plt.legend(loc=\"best\")\n",
        "  plt.show()\n",
        "\n",
        "  plt.title(\"Accuracy\")\n",
        "  plt.plot(train_acc_averages, label=\"Training\")\n",
        "  plt.plot(range(0, len(train_acc_averages), 5), valid_acc_averages, label=\"Validation\")\n",
        "  plt.xlabel('Epochs')\n",
        "  plt.ylabel(\"Accuracy\")\n",
        "  plt.legend(loc=\"best\")\n",
        "  plt.show()\n",
        "\n",
        "  return state"
      ],
      "execution_count": 0,
      "outputs": []
    },
    {
      "cell_type": "code",
      "metadata": {
        "id": "6_hZr2xUpF8s",
        "colab_type": "code",
        "outputId": "7f7e030c-de50-47d8-bb80-7facd19cc869",
        "colab": {
          "base_uri": "https://localhost:8080/",
          "height": 591
        }
      },
      "source": [
        "state = show_res(140, \"\")\n",
        "# print(state[\"valid_losses\"])\n",
        "# state2 = show_res(False, 15)"
      ],
      "execution_count": 0,
      "outputs": [
        {
          "output_type": "stream",
          "text": [
            "Got to epoch 140\n"
          ],
          "name": "stdout"
        },
        {
          "output_type": "display_data",
          "data": {
            "image/png": "[encoded data removed]",
            "text/plain": [
              "<Figure size 432x288 with 1 Axes>"
            ]
          },
          "metadata": {
            "tags": [],
            "needs_background": "light"
          }
        },
        {
          "output_type": "display_data",
          "data": {
            "image/png": "[encoded data removed]",
            "text/plain": [
              "<Figure size 432x288 with 1 Axes>"
            ]
          },
          "metadata": {
            "tags": [],
            "needs_background": "light"
          }
        }
      ]
    },
    {
      "cell_type": "code",
      "metadata": {
        "id": "TtZ2FHvrphdt",
        "colab_type": "code",
        "colab": {}
      },
      "source": [
        "loader = datasets.EncodedStanfordCarsDataset.get_loader(False, 32)"
      ],
      "execution_count": 0,
      "outputs": []
    },
    {
      "cell_type": "code",
      "metadata": {
        "id": "bfZFobWspIsj",
        "colab_type": "code",
        "outputId": "f315d34d-e999-456e-b5f0-e42555b764ff",
        "colab": {
          "base_uri": "https://localhost:8080/",
          "height": 244
        }
      },
      "source": [
        "model = CLRDecoder(196, True)\n",
        "model.load_state_dict(state['model'])\n",
        "\n",
        "test_its = 1\n",
        "sigmoid = nn.Sigmoid()\n",
        "\n",
        "accs = []\n",
        "\n",
        "class_success = np.array([ 0.0 for _ in range(196) ])\n",
        "class_counts = np.array([ 0.0 for _ in range(196) ])\n",
        "\n",
        "for i, (x, y) in zip(range(test_its), loader):\n",
        "  # import pdb; pdb.set_trace()\n",
        "  o = model(x)\n",
        "\n",
        "  y = y.squeeze(1)\n",
        "  preds = o.argmax(1).int()\n",
        "  # print(y)\n",
        "  # print(preds)\n",
        "  diff = preds.eq(y)\n",
        "\n",
        "  acc = diff.sum().item() / diff.numel()\n",
        "\n",
        "  accs.append(acc)\n",
        "  # print(diff.shape)\n",
        "  for d, t in zip(diff, y):\n",
        "    # print(t)\n",
        "    if d:\n",
        "      class_success[t] += 1\n",
        "    class_counts[t] += 1\n",
        "\n",
        "print(f\"Accuracy: {np.average(accs)}\")\n",
        "print(f\"Naive acc would be {1 / 196}\")\n",
        "\n",
        "class_accs = class_success / class_counts\n",
        "class_freqs = class_counts / 196\n",
        "\n",
        "plt.title(\"Class Accuracies\")\n",
        "plt.bar(range(len(class_accs)), class_accs)\n",
        "plt.show()"
      ],
      "execution_count": 0,
      "outputs": [
        {
          "output_type": "error",
          "ename": "NameError",
          "evalue": "ignored",
          "traceback": [
            "\u001b[0;31m---------------------------------------------------------------------------\u001b[0m",
            "\u001b[0;31mNameError\u001b[0m                                 Traceback (most recent call last)",
            "\u001b[0;32m<ipython-input-1-f6992846aeb2>\u001b[0m in \u001b[0;36m<module>\u001b[0;34m()\u001b[0m\n\u001b[0;32m----> 1\u001b[0;31m \u001b[0mmodel\u001b[0m \u001b[0;34m=\u001b[0m \u001b[0mCLRDecoder\u001b[0m\u001b[0;34m(\u001b[0m\u001b[0;36m196\u001b[0m\u001b[0;34m,\u001b[0m \u001b[0;32mTrue\u001b[0m\u001b[0;34m)\u001b[0m\u001b[0;34m\u001b[0m\u001b[0;34m\u001b[0m\u001b[0m\n\u001b[0m\u001b[1;32m      2\u001b[0m \u001b[0mmodel\u001b[0m\u001b[0;34m.\u001b[0m\u001b[0mload_state_dict\u001b[0m\u001b[0;34m(\u001b[0m\u001b[0mstate\u001b[0m\u001b[0;34m[\u001b[0m\u001b[0;34m'model'\u001b[0m\u001b[0;34m]\u001b[0m\u001b[0;34m)\u001b[0m\u001b[0;34m\u001b[0m\u001b[0;34m\u001b[0m\u001b[0m\n\u001b[1;32m      3\u001b[0m \u001b[0;34m\u001b[0m\u001b[0m\n\u001b[1;32m      4\u001b[0m \u001b[0mtest_its\u001b[0m \u001b[0;34m=\u001b[0m \u001b[0;36m1\u001b[0m\u001b[0;34m\u001b[0m\u001b[0;34m\u001b[0m\u001b[0m\n\u001b[1;32m      5\u001b[0m \u001b[0msigmoid\u001b[0m \u001b[0;34m=\u001b[0m \u001b[0mnn\u001b[0m\u001b[0;34m.\u001b[0m\u001b[0mSigmoid\u001b[0m\u001b[0;34m(\u001b[0m\u001b[0;34m)\u001b[0m\u001b[0;34m\u001b[0m\u001b[0;34m\u001b[0m\u001b[0m\n",
            "\u001b[0;31mNameError\u001b[0m: name 'CLRDecoder' is not defined"
          ]
        }
      ]
    },
    {
      "cell_type": "code",
      "metadata": {
        "id": "lENARLX1EG4Y",
        "colab_type": "code",
        "colab": {}
      },
      "source": [
        ""
      ],
      "execution_count": 0,
      "outputs": []
    },
    {
      "cell_type": "markdown",
      "metadata": {
        "id": "Myz912zkusfc",
        "colab_type": "text"
      },
      "source": [
        "# Find centroids and average for each class."
      ]
    },
    {
      "cell_type": "code",
      "metadata": {
        "id": "CwfLdQXquvAw",
        "colab_type": "code",
        "colab": {}
      },
      "source": [
        "loader = datasets.EncodedStanfordCarsDataset.get_loader(True, 32)\n",
        "dataset = loader.dataset\n",
        "encodings = dataset.encodings\n"
      ],
      "execution_count": 0,
      "outputs": []
    },
    {
      "cell_type": "code",
      "metadata": {
        "id": "KUBgQvN8vf0M",
        "colab_type": "code",
        "outputId": "b05ed6e5-8316-474b-fe8d-84db846740be",
        "colab": {
          "base_uri": "https://localhost:8080/",
          "height": 35
        }
      },
      "source": [
        ""
      ],
      "execution_count": 0,
      "outputs": [
        {
          "output_type": "stream",
          "text": [
            "CS601R_Final_Project  datasets\tgdrive\tmodels\tnotebooks  sample_data\n"
          ],
          "name": "stdout"
        }
      ]
    },
    {
      "cell_type": "code",
      "metadata": {
        "id": "H4kehZ43vWTH",
        "colab_type": "code",
        "colab": {}
      },
      "source": [
        "first_encoding = encodings[0]\n",
        "centroid_finders = [ { \"sum\": torch.zeros(first_encoding.size()), \"count\": 0 } for _ in range(196) ]\n",
        "\n",
        "for encoding, label in dataset:\n",
        "  centroid_finders[label.item()][\"sum\"] += encoding\n",
        "  centroid_finders[label.item()][\"count\"] += 1\n",
        "\n",
        "centroids = [ c[\"sum\"] / c[\"count\"] for c in centroid_finders ]\n"
      ],
      "execution_count": 0,
      "outputs": []
    },
    {
      "cell_type": "code",
      "metadata": {
        "id": "acW0p7b7wNi5",
        "colab_type": "code",
        "colab": {}
      },
      "source": [
        "def dist(a, b):\n",
        "  return torch.dist(a, b, 2)"
      ],
      "execution_count": 0,
      "outputs": []
    },
    {
      "cell_type": "code",
      "metadata": {
        "id": "JlFPeA68xYnY",
        "colab_type": "code",
        "colab": {}
      },
      "source": [
        "most_averages = [ { \"index\": -1, \"dist\": np.inf } for _ in range(196) ]\n",
        "\n",
        "for i, (encoding, label) in enumerate(dataset):\n",
        "  idx = label.item()\n",
        "  centroid = centroids[idx]\n",
        "  d = dist(centroid, encoding)\n",
        "  if most_averages[idx][\"dist\"] > d:\n",
        "    most_averages[idx][\"dist\"] = d\n",
        "    most_averages[idx][\"index\"] = i"
      ],
      "execution_count": 0,
      "outputs": []
    },
    {
      "cell_type": "code",
      "metadata": {
        "id": "8SxY4J33x6aI",
        "colab_type": "code",
        "colab": {}
      },
      "source": [
        "most_averages"
      ],
      "execution_count": 0,
      "outputs": []
    },
    {
      "cell_type": "code",
      "metadata": {
        "id": "GmMTyEeLx92L",
        "colab_type": "code",
        "colab": {}
      },
      "source": [
        "centroids_state = {\n",
        "    \"centroids\": centroids, \"averages\": most_averages\n",
        "}\n",
        "dist_loc = f\"/content/gdrive/My Drive/SimCLR/data/stanfordCars/most_average_cars.mod\"\n",
        "torch.save(centroids_state, dist_loc)"
      ],
      "execution_count": 0,
      "outputs": []
    },
    {
      "cell_type": "code",
      "metadata": {
        "id": "ERm4InJFyl-0",
        "colab_type": "code",
        "colab": {}
      },
      "source": [
        "import scipy\n",
        "m = scipy.io.loadmat(\"/content/gdrive/My Drive/SimCLR/data/stanfordCars/cars_train_annos.mat\")"
      ],
      "execution_count": 0,
      "outputs": []
    },
    {
      "cell_type": "code",
      "metadata": {
        "id": "cA3IHiA7wIlu",
        "colab_type": "code",
        "outputId": "a80d6107-eced-4a95-9f3e-95d9e8d53880",
        "colab": {
          "base_uri": "https://localhost:8080/",
          "height": 235
        }
      },
      "source": [
        "m"
      ],
      "execution_count": 0,
      "outputs": [
        {
          "output_type": "execute_result",
          "data": {
            "text/plain": [
              "{'__globals__': [],\n",
              " '__header__': b'MATLAB 5.0 MAT-file, Platform: GLNXA64, Created on: Sat Dec 14 14:13:07 2013',\n",
              " '__version__': '1.0',\n",
              " 'annotations': array([[(array([[39]], dtype=uint8), array([[116]], dtype=uint8), array([[569]], dtype=uint16), array([[375]], dtype=uint16), array([[14]], dtype=uint8), array(['00001.jpg'], dtype='<U9')),\n",
              "         (array([[36]], dtype=uint8), array([[116]], dtype=uint8), array([[868]], dtype=uint16), array([[587]], dtype=uint16), array([[3]], dtype=uint8), array(['00002.jpg'], dtype='<U9')),\n",
              "         (array([[85]], dtype=uint8), array([[109]], dtype=uint8), array([[601]], dtype=uint16), array([[381]], dtype=uint16), array([[91]], dtype=uint8), array(['00003.jpg'], dtype='<U9')),\n",
              "         ...,\n",
              "         (array([[26]], dtype=uint8), array([[246]], dtype=uint8), array([[660]], dtype=uint16), array([[449]], dtype=uint16), array([[163]], dtype=uint8), array(['08142.jpg'], dtype='<U9')),\n",
              "         (array([[78]], dtype=uint8), array([[526]], dtype=uint16), array([[1489]], dtype=uint16), array([[908]], dtype=uint16), array([[112]], dtype=uint8), array(['08143.jpg'], dtype='<U9')),\n",
              "         (array([[20]], dtype=uint8), array([[240]], dtype=uint8), array([[862]], dtype=uint16), array([[677]], dtype=uint16), array([[17]], dtype=uint8), array(['08144.jpg'], dtype='<U9'))]],\n",
              "       dtype=[('bbox_x1', 'O'), ('bbox_y1', 'O'), ('bbox_x2', 'O'), ('bbox_y2', 'O'), ('class', 'O'), ('fname', 'O')])}"
            ]
          },
          "metadata": {
            "tags": []
          },
          "execution_count": 13
        }
      ]
    },
    {
      "cell_type": "code",
      "metadata": {
        "id": "im80hLH4wNtV",
        "colab_type": "code",
        "colab": {}
      },
      "source": [
        ""
      ],
      "execution_count": 0,
      "outputs": []
    }
  ]
}