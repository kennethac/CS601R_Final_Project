{
  "nbformat": 4,
  "nbformat_minor": 0,
  "metadata": {
    "colab": {
      "name": "SimCLR_Cars_Decoder.ipynb",
      "provenance": [],
      "collapsed_sections": []
    },
    "kernelspec": {
      "name": "python3",
      "display_name": "Python 3"
    },
    "accelerator": "GPU"
  },
  "cells": [
    {
      "cell_type": "code",
      "metadata": {
        "id": "Bg8E_b23lkP0",
        "colab_type": "code",
        "colab": {}
      },
      "source": [
        "import torch\n",
        "import torchvision\n",
        "import torchvision.datasets\n",
        "import torchvision.transforms as transforms\n",
        "\n",
        "import torch.nn as nn\n",
        "import torch.nn.functional as F\n",
        "import torch.optim as optim\n",
        "from torch.utils.data import Dataset, DataLoader\n",
        "import numpy as np\n",
        "import matplotlib.pyplot as plt\n",
        "from tqdm import tqdm\n",
        "import random\n",
        "import pandas as pd\n",
        "import importlib\n",
        "from torch.utils.data.sampler import SubsetRandomSampler\n",
        "\n",
        "from IPython.core.ultratb import AutoFormattedTB\n",
        "\n",
        "__ITB__ = AutoFormattedTB(mode = 'Verbose',color_scheme='LightBg', tb_offset = 1)\n",
        "\n",
        "assert torch.cuda.is_available(), \"You need to request a GPU from Runtime > Change Runtime\""
      ],
      "execution_count": 0,
      "outputs": []
    },
    {
      "cell_type": "code",
      "metadata": {
        "id": "pQ6TXy33R6w0",
        "colab_type": "code",
        "outputId": "5adfb20d-bd24-4fea-fd27-deca2706229c",
        "colab": {
          "base_uri": "https://localhost:8080/",
          "height": 127
        }
      },
      "source": [
        "from google.colab import drive\n",
        "drive.mount(\"/content/gdrive\")"
      ],
      "execution_count": 2,
      "outputs": [
        {
          "output_type": "stream",
          "text": [
            "Go to this URL in a browser: https://accounts.google.com/o/oauth2/auth?client_id=947318989803-6bn6qk8qdgf4n4g3pfee6491hc0brc4i.apps.googleusercontent.com&redirect_uri=urn%3aietf%3awg%3aoauth%3a2.0%3aoob&response_type=code&scope=email%20https%3a%2f%2fwww.googleapis.com%2fauth%2fdocs.test%20https%3a%2f%2fwww.googleapis.com%2fauth%2fdrive%20https%3a%2f%2fwww.googleapis.com%2fauth%2fdrive.photos.readonly%20https%3a%2f%2fwww.googleapis.com%2fauth%2fpeopleapi.readonly\n",
            "\n",
            "Enter your authorization code:\n",
            "··········\n",
            "Mounted at /content/gdrive\n"
          ],
          "name": "stdout"
        }
      ]
    },
    {
      "cell_type": "code",
      "metadata": {
        "id": "wW4TA2f-U51N",
        "colab_type": "code",
        "outputId": "d9789810-529b-452f-fa2d-ee3016632d17",
        "colab": {
          "base_uri": "https://localhost:8080/",
          "height": 125
        }
      },
      "source": [
        "!rm -rf CS601R_Final_Project/ models/ datasets/ notebooks/\n",
        "!git clone https://github.com/webMan1/CS601R_Final_Project.git\n",
        "!cp -r CS601R_Final_Project/* ."
      ],
      "execution_count": 3,
      "outputs": [
        {
          "output_type": "stream",
          "text": [
            "Cloning into 'CS601R_Final_Project'...\n",
            "remote: Enumerating objects: 74, done.\u001b[K\n",
            "remote: Counting objects: 100% (74/74), done.\u001b[K\n",
            "remote: Compressing objects: 100% (53/53), done.\u001b[K\n",
            "remote: Total 74 (delta 33), reused 58 (delta 17), pack-reused 0\u001b[K\n",
            "Unpacking objects: 100% (74/74), done.\n"
          ],
          "name": "stdout"
        }
      ]
    },
    {
      "cell_type": "code",
      "metadata": {
        "id": "O4hStpoTVP6D",
        "colab_type": "code",
        "colab": {}
      },
      "source": [
        "import datasets.EncodedStanfordCarsDataset\n",
        "import models.CLRDecoder\n",
        "import importlib\n",
        "\n",
        "datasets.EncodedStanfordCarsDataset = importlib.reload(datasets.EncodedStanfordCarsDataset)\n",
        "models.CLRDecoder = importlib.reload(models.CLRDecoder)\n",
        "\n",
        "CLRDecoder = models.CLRDecoder.CLRDecoder"
      ],
      "execution_count": 0,
      "outputs": []
    },
    {
      "cell_type": "markdown",
      "metadata": {
        "id": "1MJ2LgwKX5hV",
        "colab_type": "text"
      },
      "source": [
        "# Training Loop"
      ]
    },
    {
      "cell_type": "code",
      "metadata": {
        "id": "jUOFnkxGX47o",
        "colab_type": "code",
        "colab": {}
      },
      "source": [
        "def train(model, optimizer, train_loader, valid_loader, num_epochs:int, valid_freq:int=10):\n",
        "  train_len = len(train_loader)\n",
        "  valid_len = len(valid_loader)\n",
        "  loop = tqdm(total=(num_epochs * train_len + (num_epochs // valid_freq) * valid_len), position=0)\n",
        "\n",
        "  train_losses = []\n",
        "  train_accs = []\n",
        "\n",
        "  valid_losses = []\n",
        "  valid_accs = []\n",
        "\n",
        "  criteria = nn.CrossEntropyLoss()\n",
        "\n",
        "  for e in range(num_epochs):\n",
        "    loss_builder = []\n",
        "    acc_builder = []\n",
        "\n",
        "    for i, (x, y_truth) in enumerate(train_loader):\n",
        "      x, y_truth = x.cuda(async=False), y_truth.long().squeeze(1).cuda(async=False)\n",
        "      optimizer.zero_grad()\n",
        "      \n",
        "      y_hat = model(x)\n",
        "\n",
        "      total_loss = criteria(y_hat, y_truth)\n",
        "      total_loss.backward()\n",
        "\n",
        "      acc = y_truth.eq(y_hat.argmax(1)).sum().item() / len(y_truth)\n",
        "\n",
        "      optimizer.step()\n",
        "\n",
        "      loss_builder.append(total_loss.item())\n",
        "      acc_builder.append(acc)\n",
        "\n",
        "      loop.update(1)\n",
        "      loop.set_description(f\"Epoch: {e}, it: {i}/{train_len}. Loss: {total_loss.item()}. Acc: {acc}\")\n",
        "    \n",
        "    train_accs.append(acc_builder)\n",
        "    train_losses.append(loss_builder)\n",
        "\n",
        "    if e % valid_freq == 0:\n",
        "      loss_builder = []\n",
        "      acc_builder = []\n",
        "\n",
        "      with torch.no_grad():\n",
        "        model.eval()\n",
        "\n",
        "        for i, (x, y_truth) in enumerate(train_loader):\n",
        "          x, y_truth = x.cuda(async=False), y_truth.long().squeeze(1).cuda(async=False)\n",
        "\n",
        "        y_hat = model(x)\n",
        "\n",
        "        total_loss = criteria(y_hat, y_truth)\n",
        "        acc = y_truth.eq(y_hat.argmax(1)).sum().item() / len(y_truth)\n",
        "\n",
        "        loss_builder.append(total_loss.item())\n",
        "        acc_builder.append(acc)\n",
        "\n",
        "        loop.update(1)\n",
        "        loop.set_description(f\"[VALIDATING] Epoch: {e}, it: {i}/{valid_len}. Loss: {total_loss.item()}. Acc: {acc}\")\n",
        "\n",
        "      model.train()\n",
        "\n",
        "      valid_accs.append(acc_builder)\n",
        "      valid_losses.append(loss_builder)\n",
        "    \n",
        "    state = {\n",
        "        \"model\": model.state_dict(),\n",
        "        \"train_losses\": train_losses,\n",
        "        \"train_accs\": train_accs,\n",
        "        \"valid_losses\": valid_losses,\n",
        "        \"valid_accs\": valid_accs,\n",
        "        \"epoch\": e\n",
        "    }\n",
        "    num = ((e + 4) // 5) * 5\n",
        "    path = f\"/content/gdrive/My Drive/SimCLR/models/stanford/clr_cross_e_{num}_linear.mod\"\n",
        "    torch.save(state, path)\n",
        "\n",
        "  return train_losses, train_accs, valid_losses, valid_accs"
      ],
      "execution_count": 0,
      "outputs": []
    },
    {
      "cell_type": "code",
      "metadata": {
        "id": "dCs0rNj3YDZb",
        "colab_type": "code",
        "colab": {}
      },
      "source": [
        "def run_training():\n",
        "  batch_size = 64\n",
        "  model = CLRDecoder(196).cuda()\n",
        "  optimizer = optim.Adam(model.parameters())\n",
        "\n",
        "  train_loader = datasets.EncodedStanfordCarsDataset.get_loader(True, batch_size, True)\n",
        "  valid_loader = datasets.EncodedStanfordCarsDataset.get_loader(False, batch_size, True)\n",
        "\n",
        "  num_epochs = 71\n",
        "  \n",
        "  train_losses, train_accs, valid_losses, valid_accs = train(model, optimizer, train_loader, valid_loader, num_epochs=141, valid_freq=5)\n",
        "\n",
        "  return train_losses, train_accs, valid_losses, valid_accs"
      ],
      "execution_count": 0,
      "outputs": []
    },
    {
      "cell_type": "code",
      "metadata": {
        "id": "voqBJGrkYbEX",
        "colab_type": "code",
        "outputId": "a025e05a-c1fb-4dac-955b-21a77beba7c0",
        "colab": {
          "base_uri": "https://localhost:8080/",
          "height": 35
        }
      },
      "source": [
        "res1 = run_training()"
      ],
      "execution_count": 0,
      "outputs": [
        {
          "output_type": "stream",
          "text": [
            "[VALIDATING] Epoch: 140, it: 127/126. Loss: 4.159952640533447. Acc: 0.1875:  84%|████████▍ | 18077/21576 [02:19<00:25, 136.80it/s]"
          ],
          "name": "stderr"
        }
      ]
    },
    {
      "cell_type": "code",
      "metadata": {
        "id": "IrNh5oIDqjEi",
        "colab_type": "code",
        "colab": {}
      },
      "source": [
        "train_losses, train_accs, train_faccs, valid_losses, valid_accs, valid_faccs = res1"
      ],
      "execution_count": 0,
      "outputs": []
    },
    {
      "cell_type": "markdown",
      "metadata": {
        "id": "L-t7ZmX0qMj_",
        "colab_type": "text"
      },
      "source": [
        "# Test Results"
      ]
    },
    {
      "cell_type": "code",
      "metadata": {
        "id": "aYR7NBUJo6Ha",
        "colab_type": "code",
        "colab": {}
      },
      "source": [
        "def show_res(epoch:int, suffix:str):\n",
        "  save_loc = f\"/content/gdrive/My Drive/SimCLR/models/stanford/clr_cross_e_{epoch}_linear.mod\"\n",
        "  state = torch.load(save_loc)\n",
        "  \n",
        "  epoch = state[\"epoch\"]\n",
        "  \n",
        "  train_losses, train_accs = state[\"train_losses\"], state[\"train_accs\"]\n",
        "  valid_losses, valid_accs = state[\"valid_losses\"], state[\"valid_accs\"]\n",
        "\n",
        "  train_loss_averages = [ np.mean(l) for l in train_losses]\n",
        "  valid_loss_averages = [ np.mean([i for i in l]) for l in valid_losses]\n",
        "\n",
        "  train_acc_averages = [ np.mean([i for i in l]) for l in train_accs]\n",
        "  valid_acc_averages = [ np.mean([i for i in l]) for l in valid_accs]\n",
        "\n",
        "  print(f\"Got to epoch {epoch}\")\n",
        "  plt.title(\"Cross Entropy Loss\")\n",
        "  plt.plot(train_loss_averages, label=\"Training\")\n",
        "  plt.plot(range(0, len(train_loss_averages), 5), valid_loss_averages, label=\"Validation\")\n",
        "  plt.xlabel(\"Epochs\")\n",
        "  plt.ylabel(\"Loss\")\n",
        "  plt.legend(loc=\"best\")\n",
        "  plt.show()\n",
        "\n",
        "  plt.title(\"Accuracy\")\n",
        "  plt.plot(train_acc_averages, label=\"Training\")\n",
        "  plt.plot(range(0, len(train_acc_averages), 5), valid_acc_averages, label=\"Validation\")\n",
        "  plt.xlabel('Epochs')\n",
        "  plt.ylabel(\"Accuracy\")\n",
        "  plt.legend(loc=\"best\")\n",
        "  plt.show()\n",
        "\n",
        "  return state"
      ],
      "execution_count": 0,
      "outputs": []
    },
    {
      "cell_type": "code",
      "metadata": {
        "id": "6_hZr2xUpF8s",
        "colab_type": "code",
        "outputId": "8dd01474-342a-4074-a8c3-3594549b30a6",
        "colab": {
          "base_uri": "https://localhost:8080/",
          "height": 591
        }
      },
      "source": [
        "state = show_res(140, \"\")\n",
        "# print(state[\"valid_losses\"])\n",
        "# state2 = show_res(False, 15)"
      ],
      "execution_count": 10,
      "outputs": [
        {
          "output_type": "stream",
          "text": [
            "Got to epoch 140\n"
          ],
          "name": "stdout"
        },
        {
          "output_type": "display_data",
          "data": {
            "image/png": "[encoded data removed]",
            "text/plain": [
              "<Figure size 432x288 with 1 Axes>"
            ]
          },
          "metadata": {
            "tags": [],
            "needs_background": "light"
          }
        },
        {
          "output_type": "display_data",
          "data": {
            "image/png": "[encoded data removed]",
            "text/plain": [
              "<Figure size 432x288 with 1 Axes>"
            ]
          },
          "metadata": {
            "tags": [],
            "needs_background": "light"
          }
        }
      ]
    },
    {
      "cell_type": "code",
      "metadata": {
        "id": "TtZ2FHvrphdt",
        "colab_type": "code",
        "outputId": "4c33a9ab-7969-4e57-d84b-9ace1b9228ba",
        "colab": {
          "base_uri": "https://localhost:8080/",
          "height": 233
        }
      },
      "source": [
        "loader = get_loader(False, 32)"
      ],
      "execution_count": 0,
      "outputs": [
        {
          "output_type": "stream",
          "text": [
            "Using the Index(['5_o_Clock_Shadow', 'Arched_Eyebrows', 'Attractive', 'Bags_Under_Eyes',\n",
            "       'Bald', 'Bangs', 'Big_Lips', 'Big_Nose', 'Black_Hair', 'Blond_Hair',\n",
            "       'Blurry', 'Brown_Hair', 'Bushy_Eyebrows', 'Chubby', 'Double_Chin',\n",
            "       'Eyeglasses', 'Goatee', 'Gray_Hair', 'Heavy_Makeup', 'High_Cheekbones',\n",
            "       'Male', 'Mouth_Slightly_Open', 'Mustache', 'Narrow_Eyes', 'No_Beard',\n",
            "       'Oval_Face', 'Pale_Skin', 'Pointy_Nose', 'Receding_Hairline',\n",
            "       'Rosy_Cheeks', 'Sideburns', 'Smiling', 'Straight_Hair', 'Wavy_Hair',\n",
            "       'Wearing_Earrings', 'Wearing_Hat', 'Wearing_Lipstick',\n",
            "       'Wearing_Necklace', 'Wearing_Necktie', 'Young'],\n",
            "      dtype='object') attribute as the label\n",
            "torch.Size([19867, 40])\n",
            "Mask shape: (202599,)\n"
          ],
          "name": "stdout"
        }
      ]
    },
    {
      "cell_type": "code",
      "metadata": {
        "id": "bfZFobWspIsj",
        "colab_type": "code",
        "outputId": "0409ce39-ac40-45bd-a5bc-a58b5086fead",
        "colab": {
          "base_uri": "https://localhost:8080/",
          "height": 53
        }
      },
      "source": [
        "model = CLRDecoder(True)\n",
        "model.load_state_dict(state['model'])\n",
        "\n",
        "test_its = 100000000\n",
        "sigmoid = nn.Sigmoid()\n",
        "\n",
        "accs = []\n",
        "naive_accs = []\n",
        "for i, (x, y) in zip(range(test_its), loader):\n",
        "  # pred = torch.stack(model(x)).permute(1, 0, 2).argmax(dim=2)\n",
        "  pred = sigmoid(model(x))\n",
        "  # print(\"Predicted:\")\n",
        "  # print((pred > 0.5).int().tolist())\n",
        "  # print(\"Actual\")\n",
        "  # print(y.tolist())\n",
        "\n",
        "  diff = (pred > 0.5).int().eq(y)\n",
        "  acc = diff.sum().item() / diff.numel()\n",
        "  accs.append(acc)\n",
        "\n",
        "  num_tg_ones = y.sum().item()\n",
        "  naive_acc = 1 - (num_tg_ones / diff.numel())\n",
        "  naive_accs.append(naive_acc)\n",
        "print(f\"Accuracy: {np.average(accs)}\")\n",
        "print(f\"Naive acc would be {np.average(naive_acc)}\")\n"
      ],
      "execution_count": 0,
      "outputs": [
        {
          "output_type": "stream",
          "text": [
            "Accuracy: 0.8930730750879703\n",
            "Naive acc would be 0.7833333333333333\n"
          ],
          "name": "stdout"
        }
      ]
    },
    {
      "cell_type": "code",
      "metadata": {
        "id": "lENARLX1EG4Y",
        "colab_type": "code",
        "colab": {}
      },
      "source": [
        ""
      ],
      "execution_count": 0,
      "outputs": []
    },
    {
      "cell_type": "markdown",
      "metadata": {
        "id": "Myz912zkusfc",
        "colab_type": "text"
      },
      "source": [
        "# Find centroids and average for each class."
      ]
    },
    {
      "cell_type": "code",
      "metadata": {
        "id": "CwfLdQXquvAw",
        "colab_type": "code",
        "colab": {}
      },
      "source": [
        "loader = datasets.EncodedStanfordCarsDataset.get_loader(True, 32)\n",
        "dataset = loader.dataset\n",
        "encodings = dataset.encodings\n"
      ],
      "execution_count": 0,
      "outputs": []
    },
    {
      "cell_type": "code",
      "metadata": {
        "id": "H4kehZ43vWTH",
        "colab_type": "code",
        "colab": {}
      },
      "source": [
        "first_encoding = encodings[0]\n",
        "centroid_finders = [ { \"sum\": torch.zeros(first_encoding.size()), \"count\": 0 } for _ in range(196) ]\n",
        "\n",
        "for encoding, label in dataset:\n",
        "  centroid_finders[label.item()][\"sum\"] += encoding\n",
        "  centroid_finders[label.item()][\"count\"] += 1\n",
        "\n",
        "centroids = [ c[\"sum\"] / c[\"count\"] for c in centroid_finders ]\n"
      ],
      "execution_count": 0,
      "outputs": []
    },
    {
      "cell_type": "code",
      "metadata": {
        "id": "acW0p7b7wNi5",
        "colab_type": "code",
        "colab": {}
      },
      "source": [
        "def dist(a, b):\n",
        "  return torch.dist(a, b, 2)"
      ],
      "execution_count": 0,
      "outputs": []
    },
    {
      "cell_type": "code",
      "metadata": {
        "id": "JlFPeA68xYnY",
        "colab_type": "code",
        "colab": {}
      },
      "source": [
        "most_averages = [ { \"index\": -1, \"dist\": np.inf } for _ in range(196) ]\n",
        "\n",
        "for i, (encoding, label) in enumerate(dataset):\n",
        "  idx = label.item()\n",
        "  centroid = centroids[idx]\n",
        "  d = dist(centroid, encoding)\n",
        "  if most_averages[idx][\"dist\"] > d:\n",
        "    most_averages[idx][\"dist\"] = d\n",
        "    most_averages[idx][\"index\"] = i"
      ],
      "execution_count": 0,
      "outputs": []
    },
    {
      "cell_type": "code",
      "metadata": {
        "id": "8SxY4J33x6aI",
        "colab_type": "code",
        "colab": {
          "base_uri": "https://localhost:8080/",
          "height": 1000
        },
        "outputId": "3cb935f5-f00d-4691-81df-b98060a59a09"
      },
      "source": [
        "most_averages"
      ],
      "execution_count": 24,
      "outputs": [
        {
          "output_type": "execute_result",
          "data": {
            "text/plain": [
              "[{'dist': tensor(4.7587), 'index': 461},\n",
              " {'dist': tensor(7.4179), 'index': 4243},\n",
              " {'dist': tensor(8.9969), 'index': 5747},\n",
              " {'dist': tensor(7.4970), 'index': 3240},\n",
              " {'dist': tensor(6.1734), 'index': 6312},\n",
              " {'dist': tensor(6.3734), 'index': 2094},\n",
              " {'dist': tensor(8.2444), 'index': 5348},\n",
              " {'dist': tensor(6.9878), 'index': 5566},\n",
              " {'dist': tensor(8.5585), 'index': 3661},\n",
              " {'dist': tensor(8.4887), 'index': 1785},\n",
              " {'dist': tensor(6.7434), 'index': 7739},\n",
              " {'dist': tensor(8.2299), 'index': 1296},\n",
              " {'dist': tensor(8.3049), 'index': 4447},\n",
              " {'dist': tensor(8.3867), 'index': 3837},\n",
              " {'dist': tensor(7.7552), 'index': 2324},\n",
              " {'dist': tensor(8.2792), 'index': 4311},\n",
              " {'dist': tensor(9.2144), 'index': 4948},\n",
              " {'dist': tensor(7.4545), 'index': 3434},\n",
              " {'dist': tensor(8.2978), 'index': 6276},\n",
              " {'dist': tensor(8.7172), 'index': 6913},\n",
              " {'dist': tensor(8.5969), 'index': 2040},\n",
              " {'dist': tensor(9.1330), 'index': 6755},\n",
              " {'dist': tensor(8.7456), 'index': 641},\n",
              " {'dist': tensor(8.2160), 'index': 7561},\n",
              " {'dist': tensor(6.6745), 'index': 5145},\n",
              " {'dist': tensor(8.5570), 'index': 237},\n",
              " {'dist': tensor(9.0786), 'index': 7688},\n",
              " {'dist': tensor(7.7834), 'index': 2757},\n",
              " {'dist': tensor(7.2176), 'index': 4128},\n",
              " {'dist': tensor(7.4566), 'index': 6918},\n",
              " {'dist': tensor(7.5660), 'index': 7993},\n",
              " {'dist': tensor(5.8241), 'index': 7307},\n",
              " {'dist': tensor(7.7830), 'index': 7118},\n",
              " {'dist': tensor(8.1503), 'index': 4839},\n",
              " {'dist': tensor(8.1409), 'index': 7895},\n",
              " {'dist': tensor(8.8328), 'index': 3537},\n",
              " {'dist': tensor(7.4158), 'index': 638},\n",
              " {'dist': tensor(7.6608), 'index': 3070},\n",
              " {'dist': tensor(8.0320), 'index': 356},\n",
              " {'dist': tensor(6.2974), 'index': 1521},\n",
              " {'dist': tensor(6.4936), 'index': 7284},\n",
              " {'dist': tensor(7.3024), 'index': 455},\n",
              " {'dist': tensor(7.2859), 'index': 1484},\n",
              " {'dist': tensor(7.7964), 'index': 2451},\n",
              " {'dist': tensor(5.4374), 'index': 4249},\n",
              " {'dist': tensor(7.0122), 'index': 2823},\n",
              " {'dist': tensor(7.9699), 'index': 2987},\n",
              " {'dist': tensor(9.3735), 'index': 2108},\n",
              " {'dist': tensor(10.1306), 'index': 4315},\n",
              " {'dist': tensor(9.9225), 'index': 7599},\n",
              " {'dist': tensor(6.4330), 'index': 3103},\n",
              " {'dist': tensor(7.7777), 'index': 5740},\n",
              " {'dist': tensor(9.4831), 'index': 3878},\n",
              " {'dist': tensor(7.9789), 'index': 173},\n",
              " {'dist': tensor(6.6147), 'index': 264},\n",
              " {'dist': tensor(6.9928), 'index': 137},\n",
              " {'dist': tensor(7.5745), 'index': 7468},\n",
              " {'dist': tensor(8.1303), 'index': 4462},\n",
              " {'dist': tensor(8.9882), 'index': 2457},\n",
              " {'dist': tensor(6.3782), 'index': 5645},\n",
              " {'dist': tensor(5.4583), 'index': 675},\n",
              " {'dist': tensor(4.7494), 'index': 3400},\n",
              " {'dist': tensor(6.8158), 'index': 994},\n",
              " {'dist': tensor(4.5235), 'index': 6086},\n",
              " {'dist': tensor(7.7779), 'index': 5266},\n",
              " {'dist': tensor(6.1753), 'index': 928},\n",
              " {'dist': tensor(8.3241), 'index': 3354},\n",
              " {'dist': tensor(6.0410), 'index': 5167},\n",
              " {'dist': tensor(6.9089), 'index': 4798},\n",
              " {'dist': tensor(6.9913), 'index': 359},\n",
              " {'dist': tensor(5.4281), 'index': 6970},\n",
              " {'dist': tensor(9.8200), 'index': 7204},\n",
              " {'dist': tensor(8.6097), 'index': 7165},\n",
              " {'dist': tensor(7.4567), 'index': 6847},\n",
              " {'dist': tensor(6.7183), 'index': 1545},\n",
              " {'dist': tensor(8.1976), 'index': 6649},\n",
              " {'dist': tensor(7.8671), 'index': 4511},\n",
              " {'dist': tensor(9.7017), 'index': 6533},\n",
              " {'dist': tensor(7.5566), 'index': 5079},\n",
              " {'dist': tensor(6.5567), 'index': 1742},\n",
              " {'dist': tensor(6.4158), 'index': 3248},\n",
              " {'dist': tensor(7.5273), 'index': 3467},\n",
              " {'dist': tensor(9.2080), 'index': 3768},\n",
              " {'dist': tensor(5.6435), 'index': 4068},\n",
              " {'dist': tensor(7.6102), 'index': 422},\n",
              " {'dist': tensor(4.3788), 'index': 2073},\n",
              " {'dist': tensor(7.2317), 'index': 296},\n",
              " {'dist': tensor(6.1435), 'index': 1112},\n",
              " {'dist': tensor(7.7438), 'index': 348},\n",
              " {'dist': tensor(5.4125), 'index': 8089},\n",
              " {'dist': tensor(7.9592), 'index': 3690},\n",
              " {'dist': tensor(9.9710), 'index': 6734},\n",
              " {'dist': tensor(8.5812), 'index': 2568},\n",
              " {'dist': tensor(6.2262), 'index': 3600},\n",
              " {'dist': tensor(9.0201), 'index': 1700},\n",
              " {'dist': tensor(6.4556), 'index': 5430},\n",
              " {'dist': tensor(8.2641), 'index': 7554},\n",
              " {'dist': tensor(6.2748), 'index': 4296},\n",
              " {'dist': tensor(7.0795), 'index': 5708},\n",
              " {'dist': tensor(6.2724), 'index': 5238},\n",
              " {'dist': tensor(6.9128), 'index': 2922},\n",
              " {'dist': tensor(5.9774), 'index': 3548},\n",
              " {'dist': tensor(6.4890), 'index': 5072},\n",
              " {'dist': tensor(5.6081), 'index': 5637},\n",
              " {'dist': tensor(7.0518), 'index': 2551},\n",
              " {'dist': tensor(4.8052), 'index': 7774},\n",
              " {'dist': tensor(8.6887), 'index': 559},\n",
              " {'dist': tensor(5.8395), 'index': 1772},\n",
              " {'dist': tensor(3.4999), 'index': 1926},\n",
              " {'dist': tensor(8.7464), 'index': 3572},\n",
              " {'dist': tensor(8.1539), 'index': 5187},\n",
              " {'dist': tensor(7.3339), 'index': 3523},\n",
              " {'dist': tensor(7.1029), 'index': 4927},\n",
              " {'dist': tensor(9.5872), 'index': 492},\n",
              " {'dist': tensor(9.6449), 'index': 2756},\n",
              " {'dist': tensor(6.3633), 'index': 6722},\n",
              " {'dist': tensor(9.3490), 'index': 7704},\n",
              " {'dist': tensor(6.6082), 'index': 4665},\n",
              " {'dist': tensor(5.9111), 'index': 7984},\n",
              " {'dist': tensor(8.5637), 'index': 2689},\n",
              " {'dist': tensor(8.0309), 'index': 6852},\n",
              " {'dist': tensor(7.2819), 'index': 2287},\n",
              " {'dist': tensor(6.4151), 'index': 7070},\n",
              " {'dist': tensor(6.2476), 'index': 4995},\n",
              " {'dist': tensor(5.5004), 'index': 6600},\n",
              " {'dist': tensor(8.0688), 'index': 6397},\n",
              " {'dist': tensor(7.8219), 'index': 1016},\n",
              " {'dist': tensor(8.0045), 'index': 6273},\n",
              " {'dist': tensor(9.3135), 'index': 4399},\n",
              " {'dist': tensor(7.8614), 'index': 5036},\n",
              " {'dist': tensor(6.2128), 'index': 7941},\n",
              " {'dist': tensor(8.4136), 'index': 7286},\n",
              " {'dist': tensor(9.9390), 'index': 7433},\n",
              " {'dist': tensor(7.9505), 'index': 7886},\n",
              " {'dist': tensor(6.0879), 'index': 4534},\n",
              " {'dist': tensor(8.3287), 'index': 679},\n",
              " {'dist': tensor(9.3969), 'index': 2122},\n",
              " {'dist': tensor(7.2940), 'index': 2237},\n",
              " {'dist': tensor(9.7535), 'index': 6876},\n",
              " {'dist': tensor(9.0197), 'index': 3276},\n",
              " {'dist': tensor(7.8704), 'index': 384},\n",
              " {'dist': tensor(6.5999), 'index': 7996},\n",
              " {'dist': tensor(6.7921), 'index': 2319},\n",
              " {'dist': tensor(8.6382), 'index': 4432},\n",
              " {'dist': tensor(6.9096), 'index': 6854},\n",
              " {'dist': tensor(6.0693), 'index': 934},\n",
              " {'dist': tensor(6.9769), 'index': 7199},\n",
              " {'dist': tensor(7.0848), 'index': 3889},\n",
              " {'dist': tensor(8.4658), 'index': 711},\n",
              " {'dist': tensor(6.0286), 'index': 3234},\n",
              " {'dist': tensor(7.3094), 'index': 5734},\n",
              " {'dist': tensor(6.8833), 'index': 2082},\n",
              " {'dist': tensor(6.7518), 'index': 755},\n",
              " {'dist': tensor(7.9556), 'index': 2407},\n",
              " {'dist': tensor(7.2268), 'index': 1812},\n",
              " {'dist': tensor(6.4352), 'index': 1416},\n",
              " {'dist': tensor(6.9262), 'index': 7364},\n",
              " {'dist': tensor(6.5713), 'index': 4907},\n",
              " {'dist': tensor(9.0505), 'index': 5789},\n",
              " {'dist': tensor(5.9608), 'index': 5479},\n",
              " {'dist': tensor(8.2705), 'index': 6398},\n",
              " {'dist': tensor(7.3514), 'index': 6417},\n",
              " {'dist': tensor(7.9934), 'index': 6231},\n",
              " {'dist': tensor(8.9823), 'index': 2245},\n",
              " {'dist': tensor(7.7390), 'index': 90},\n",
              " {'dist': tensor(5.6305), 'index': 5676},\n",
              " {'dist': tensor(8.6774), 'index': 4765},\n",
              " {'dist': tensor(7.1596), 'index': 3111},\n",
              " {'dist': tensor(5.6903), 'index': 1746},\n",
              " {'dist': tensor(9.5369), 'index': 6988},\n",
              " {'dist': tensor(7.4966), 'index': 3811},\n",
              " {'dist': tensor(6.6770), 'index': 4285},\n",
              " {'dist': tensor(7.6573), 'index': 7776},\n",
              " {'dist': tensor(6.8904), 'index': 5166},\n",
              " {'dist': tensor(9.0864), 'index': 2603},\n",
              " {'dist': tensor(5.4711), 'index': 411},\n",
              " {'dist': tensor(6.0728), 'index': 4568},\n",
              " {'dist': tensor(10.2492), 'index': 4416},\n",
              " {'dist': tensor(7.8688), 'index': 427},\n",
              " {'dist': tensor(6.1467), 'index': 326},\n",
              " {'dist': tensor(7.5667), 'index': 3436},\n",
              " {'dist': tensor(7.8984), 'index': 3845},\n",
              " {'dist': tensor(9.6266), 'index': 3883},\n",
              " {'dist': tensor(7.6216), 'index': 2951},\n",
              " {'dist': tensor(8.5727), 'index': 1215},\n",
              " {'dist': tensor(7.2055), 'index': 3064},\n",
              " {'dist': tensor(8.2390), 'index': 430},\n",
              " {'dist': tensor(8.7105), 'index': 5776},\n",
              " {'dist': tensor(7.0958), 'index': 6389},\n",
              " {'dist': tensor(8.3956), 'index': 7988},\n",
              " {'dist': tensor(6.4230), 'index': 7048},\n",
              " {'dist': tensor(9.3597), 'index': 4753},\n",
              " {'dist': tensor(7.1011), 'index': 1111},\n",
              " {'dist': tensor(8.5833), 'index': 2343},\n",
              " {'dist': tensor(7.3425), 'index': 4533},\n",
              " {'dist': tensor(8.1009), 'index': 4969}]"
            ]
          },
          "metadata": {
            "tags": []
          },
          "execution_count": 24
        }
      ]
    },
    {
      "cell_type": "code",
      "metadata": {
        "id": "GmMTyEeLx92L",
        "colab_type": "code",
        "colab": {}
      },
      "source": [
        "centroids_state = {\n",
        "    \"centroids\": centroids, \"averages\": most_averages\n",
        "}\n",
        "dist_loc = f\"/content/gdrive/My Drive/SimCLR/data/stanfordCars/most_average_cars.mod\"\n",
        "torch.save(centroids_state, dist_loc)"
      ],
      "execution_count": 0,
      "outputs": []
    },
    {
      "cell_type": "code",
      "metadata": {
        "id": "ERm4InJFyl-0",
        "colab_type": "code",
        "colab": {}
      },
      "source": [
        ""
      ],
      "execution_count": 0,
      "outputs": []
    }
  ]
}