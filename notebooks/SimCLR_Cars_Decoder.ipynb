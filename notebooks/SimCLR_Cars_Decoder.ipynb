{
  "nbformat": 4,
  "nbformat_minor": 0,
  "metadata": {
    "colab": {
      "name": "SimCLR_Cars_Decoder.ipynb",
      "provenance": [],
      "collapsed_sections": []
    },
    "kernelspec": {
      "name": "python3",
      "display_name": "Python 3"
    },
    "accelerator": "GPU"
  },
  "cells": [
    {
      "cell_type": "code",
      "metadata": {
        "id": "Bg8E_b23lkP0",
        "colab_type": "code",
        "colab": {}
      },
      "source": [
        "import torch\n",
        "import torchvision\n",
        "import torchvision.datasets\n",
        "import torchvision.transforms as transforms\n",
        "\n",
        "import torch.nn as nn\n",
        "import torch.nn.functional as F\n",
        "import torch.optim as optim\n",
        "from torch.utils.data import Dataset, DataLoader\n",
        "import numpy as np\n",
        "import matplotlib.pyplot as plt\n",
        "from tqdm import tqdm\n",
        "import random\n",
        "import pandas as pd\n",
        "import importlib\n",
        "from torch.utils.data.sampler import SubsetRandomSampler\n",
        "\n",
        "from IPython.core.ultratb import AutoFormattedTB\n",
        "\n",
        "__ITB__ = AutoFormattedTB(mode = 'Verbose',color_scheme='LightBg', tb_offset = 1)\n",
        "\n",
        "assert torch.cuda.is_available(), \"You need to request a GPU from Runtime > Change Runtime\""
      ],
      "execution_count": 0,
      "outputs": []
    },
    {
      "cell_type": "code",
      "metadata": {
        "id": "pQ6TXy33R6w0",
        "colab_type": "code",
        "outputId": "c91d7512-5341-4951-c5fe-955f8680e215",
        "colab": {
          "base_uri": "https://localhost:8080/",
          "height": 35
        }
      },
      "source": [
        "from google.colab import drive\n",
        "drive.mount(\"/content/gdrive\")"
      ],
      "execution_count": 49,
      "outputs": [
        {
          "output_type": "stream",
          "text": [
            "Drive already mounted at /content/gdrive; to attempt to forcibly remount, call drive.mount(\"/content/gdrive\", force_remount=True).\n"
          ],
          "name": "stdout"
        }
      ]
    },
    {
      "cell_type": "code",
      "metadata": {
        "id": "wW4TA2f-U51N",
        "colab_type": "code",
        "outputId": "f232a8c0-a4f4-47f8-d5ac-96068c0ca024",
        "colab": {
          "base_uri": "https://localhost:8080/",
          "height": 125
        }
      },
      "source": [
        "!rm -rf CS601R_Final_Project/ models/ datasets/ notebooks/\n",
        "!git clone https://github.com/webMan1/CS601R_Final_Project.git\n",
        "!cp -r CS601R_Final_Project/* ."
      ],
      "execution_count": 50,
      "outputs": [
        {
          "output_type": "stream",
          "text": [
            "Cloning into 'CS601R_Final_Project'...\n",
            "remote: Enumerating objects: 70, done.\u001b[K\n",
            "remote: Counting objects: 100% (70/70), done.\u001b[K\n",
            "remote: Compressing objects: 100% (49/49), done.\u001b[K\n",
            "remote: Total 70 (delta 32), reused 55 (delta 17), pack-reused 0\u001b[K\n",
            "Unpacking objects: 100% (70/70), done.\n"
          ],
          "name": "stdout"
        }
      ]
    },
    {
      "cell_type": "code",
      "metadata": {
        "id": "O4hStpoTVP6D",
        "colab_type": "code",
        "colab": {}
      },
      "source": [
        "import datasets.EncodedStanfordCarsDataset\n",
        "import models.CLRDecoder\n",
        "import importlib\n",
        "\n",
        "datasets.EncodedStanfordCarsDataset = importlib.reload(datasets.EncodedStanfordCarsDataset)\n",
        "models.CLRDecoder = importlib.reload(models.CLRDecoder)\n",
        "\n",
        "CLRDecoder = models.CLRDecoder.CLRDecoder"
      ],
      "execution_count": 0,
      "outputs": []
    },
    {
      "cell_type": "markdown",
      "metadata": {
        "id": "1MJ2LgwKX5hV",
        "colab_type": "text"
      },
      "source": [
        "# Training Loop"
      ]
    },
    {
      "cell_type": "code",
      "metadata": {
        "id": "jUOFnkxGX47o",
        "colab_type": "code",
        "colab": {}
      },
      "source": [
        "def train(model, optimizer, train_loader, valid_loader, num_epochs:int, valid_freq:int=10):\n",
        "  train_len = len(train_loader)\n",
        "  valid_len = len(valid_loader)\n",
        "  loop = tqdm(total=(num_epochs * train_len + (num_epochs // valid_freq) * valid_len), position=0)\n",
        "\n",
        "  train_losses = []\n",
        "  train_accs = []\n",
        "\n",
        "  valid_losses = []\n",
        "  valid_accs = []\n",
        "\n",
        "  criteria = nn.CrossEntropyLoss()\n",
        "\n",
        "  for e in range(num_epochs):\n",
        "    loss_builder = []\n",
        "    acc_builder = []\n",
        "\n",
        "    for i, (x, y_truth) in enumerate(train_loader):\n",
        "      x, y_truth = x.cuda(async=False), y_truth.long().squeeze(1).cuda(async=False)\n",
        "      optimizer.zero_grad()\n",
        "      \n",
        "      y_hat = model(x)\n",
        "\n",
        "      total_loss = criteria(y_hat, y_truth)\n",
        "      total_loss.backward()\n",
        "\n",
        "      acc = y_truth.eq(y_hat.argmax(1)).sum().item() / len(y_truth)\n",
        "\n",
        "      optimizer.step()\n",
        "\n",
        "      loss_builder.append(total_loss.item())\n",
        "      acc_builder.append(acc)\n",
        "\n",
        "      loop.update(1)\n",
        "      loop.set_description(f\"Epoch: {e}, it: {i}/{train_len}. Loss: {total_loss.item()}. Acc: {acc}\")\n",
        "    \n",
        "    train_accs.append(acc_builder)\n",
        "    train_losses.append(loss_builder)\n",
        "\n",
        "    if e % valid_freq == 0:\n",
        "      loss_builder = []\n",
        "      acc_builder = []\n",
        "\n",
        "      with torch.no_grad():\n",
        "        model.eval()\n",
        "\n",
        "        for i, (x, y_truth) in enumerate(train_loader):\n",
        "          x, y_truth = x.cuda(async=False), y_truth.long().squeeze(1).cuda(async=False)\n",
        "\n",
        "        y_hat = model(x)\n",
        "\n",
        "        total_loss = criteria(y_hat, y_truth)\n",
        "        acc = y_truth.eq(y_hat.argmax(1)).sum().item() / len(y_truth)\n",
        "\n",
        "        loss_builder.append(total_loss.item())\n",
        "        acc_builder.append(acc)\n",
        "\n",
        "        loop.update(1)\n",
        "        loop.set_description(f\"[VALIDATING] Epoch: {e}, it: {i}/{valid_len}. Loss: {total_loss.item()}. Acc: {acc}\")\n",
        "\n",
        "      model.train()\n",
        "\n",
        "      valid_accs.append(acc_builder)\n",
        "      valid_losses.append(loss_builder)\n",
        "    \n",
        "    state = {\n",
        "        \"model\": model.state_dict(),\n",
        "        \"train_losses\": train_losses,\n",
        "        \"train_accs\": train_accs,\n",
        "        \"valid_losses\": valid_losses,\n",
        "        \"valid_accs\": valid_accs,\n",
        "        \"epoch\": e\n",
        "    }\n",
        "    num = ((e + 4) // 5) * 5\n",
        "    path = f\"/content/gdrive/My Drive/SimCLR/models/stanford/clr_cross_e_{num}_linear.mod\"\n",
        "    torch.save(state, path)\n",
        "\n",
        "  return train_losses, train_accs, valid_losses, valid_accs"
      ],
      "execution_count": 0,
      "outputs": []
    },
    {
      "cell_type": "code",
      "metadata": {
        "id": "dCs0rNj3YDZb",
        "colab_type": "code",
        "colab": {}
      },
      "source": [
        "def run_training():\n",
        "  batch_size = 64\n",
        "  model = CLRDecoder(196).cuda()\n",
        "  optimizer = optim.Adam(model.parameters())\n",
        "\n",
        "  train_loader = datasets.EncodedStanfordCarsDataset.get_loader(True, batch_size, True)\n",
        "  valid_loader = datasets.EncodedStanfordCarsDataset.get_loader(False, batch_size, True)\n",
        "\n",
        "  num_epochs = 71\n",
        "  \n",
        "  train_losses, train_accs, valid_losses, valid_accs = train(model, optimizer, train_loader, valid_loader, num_epochs=141, valid_freq=5)\n",
        "\n",
        "  return train_losses, train_accs, valid_losses, valid_accs"
      ],
      "execution_count": 0,
      "outputs": []
    },
    {
      "cell_type": "code",
      "metadata": {
        "id": "voqBJGrkYbEX",
        "colab_type": "code",
        "outputId": "a025e05a-c1fb-4dac-955b-21a77beba7c0",
        "colab": {
          "base_uri": "https://localhost:8080/",
          "height": 35
        }
      },
      "source": [
        "res1 = run_training()"
      ],
      "execution_count": 54,
      "outputs": [
        {
          "output_type": "stream",
          "text": [
            "[VALIDATING] Epoch: 140, it: 127/126. Loss: 4.159952640533447. Acc: 0.1875:  84%|████████▍ | 18077/21576 [02:19<00:25, 136.80it/s]"
          ],
          "name": "stderr"
        }
      ]
    },
    {
      "cell_type": "code",
      "metadata": {
        "id": "IrNh5oIDqjEi",
        "colab_type": "code",
        "colab": {}
      },
      "source": [
        "train_losses, train_accs, train_faccs, valid_losses, valid_accs, valid_faccs = res1"
      ],
      "execution_count": 0,
      "outputs": []
    },
    {
      "cell_type": "markdown",
      "metadata": {
        "id": "L-t7ZmX0qMj_",
        "colab_type": "text"
      },
      "source": [
        "# Test Results"
      ]
    },
    {
      "cell_type": "code",
      "metadata": {
        "id": "aYR7NBUJo6Ha",
        "colab_type": "code",
        "colab": {}
      },
      "source": [
        "def show_res(epoch:int, suffix:str):\n",
        "  save_loc = f\"/content/gdrive/My Drive/SimCLR/models/stanford/clr_cross_e_{epoch}_linear.mod\"\n",
        "  state = torch.load(save_loc)\n",
        "  \n",
        "  epoch = state[\"epoch\"]\n",
        "  \n",
        "  train_losses, train_accs = state[\"train_losses\"], state[\"train_accs\"]\n",
        "  valid_losses, valid_accs = state[\"valid_losses\"], state[\"valid_accs\"]\n",
        "\n",
        "  train_loss_averages = [ np.mean(l) for l in train_losses]\n",
        "  valid_loss_averages = [ np.mean([i for i in l]) for l in valid_losses]\n",
        "\n",
        "  train_acc_averages = [ np.mean([i for i in l]) for l in train_accs]\n",
        "  valid_acc_averages = [ np.mean([i for i in l]) for l in valid_accs]\n",
        "\n",
        "  print(f\"Got to epoch {epoch}\")\n",
        "  plt.title(\"Loss\")\n",
        "  plt.plot(train_loss_averages)\n",
        "  plt.plot(range(0, len(train_loss_averages), 5), valid_loss_averages)\n",
        "  plt.show()\n",
        "\n",
        "  plt.title(\"Accuracy\")\n",
        "  plt.plot(train_acc_averages)\n",
        "  plt.plot(range(0, len(train_acc_averages), 5), valid_acc_averages)\n",
        "  plt.show()\n",
        "\n",
        "  return state"
      ],
      "execution_count": 0,
      "outputs": []
    },
    {
      "cell_type": "code",
      "metadata": {
        "id": "6_hZr2xUpF8s",
        "colab_type": "code",
        "outputId": "e3d2237d-9cc6-4416-eb41-c60e901c6510",
        "colab": {
          "base_uri": "https://localhost:8080/",
          "height": 563
        }
      },
      "source": [
        "state = show_res(140, \"\")\n",
        "# print(state[\"valid_losses\"])\n",
        "# state2 = show_res(False, 15)"
      ],
      "execution_count": 56,
      "outputs": [
        {
          "output_type": "stream",
          "text": [
            "Got to epoch 140\n"
          ],
          "name": "stdout"
        },
        {
          "output_type": "display_data",
          "data": {
            "image/png": "[encoded data removed]",
            "text/plain": [
              "<Figure size 432x288 with 1 Axes>"
            ]
          },
          "metadata": {
            "tags": []
          }
        },
        {
          "output_type": "display_data",
          "data": {
            "image/png": "[encoded data removed]",
            "text/plain": [
              "<Figure size 432x288 with 1 Axes>"
            ]
          },
          "metadata": {
            "tags": []
          }
        }
      ]
    },
    {
      "cell_type": "code",
      "metadata": {
        "id": "TtZ2FHvrphdt",
        "colab_type": "code",
        "outputId": "4c33a9ab-7969-4e57-d84b-9ace1b9228ba",
        "colab": {
          "base_uri": "https://localhost:8080/",
          "height": 233
        }
      },
      "source": [
        "loader = get_loader(False, 32)"
      ],
      "execution_count": 0,
      "outputs": [
        {
          "output_type": "stream",
          "text": [
            "Using the Index(['5_o_Clock_Shadow', 'Arched_Eyebrows', 'Attractive', 'Bags_Under_Eyes',\n",
            "       'Bald', 'Bangs', 'Big_Lips', 'Big_Nose', 'Black_Hair', 'Blond_Hair',\n",
            "       'Blurry', 'Brown_Hair', 'Bushy_Eyebrows', 'Chubby', 'Double_Chin',\n",
            "       'Eyeglasses', 'Goatee', 'Gray_Hair', 'Heavy_Makeup', 'High_Cheekbones',\n",
            "       'Male', 'Mouth_Slightly_Open', 'Mustache', 'Narrow_Eyes', 'No_Beard',\n",
            "       'Oval_Face', 'Pale_Skin', 'Pointy_Nose', 'Receding_Hairline',\n",
            "       'Rosy_Cheeks', 'Sideburns', 'Smiling', 'Straight_Hair', 'Wavy_Hair',\n",
            "       'Wearing_Earrings', 'Wearing_Hat', 'Wearing_Lipstick',\n",
            "       'Wearing_Necklace', 'Wearing_Necktie', 'Young'],\n",
            "      dtype='object') attribute as the label\n",
            "torch.Size([19867, 40])\n",
            "Mask shape: (202599,)\n"
          ],
          "name": "stdout"
        }
      ]
    },
    {
      "cell_type": "code",
      "metadata": {
        "id": "bfZFobWspIsj",
        "colab_type": "code",
        "outputId": "0409ce39-ac40-45bd-a5bc-a58b5086fead",
        "colab": {
          "base_uri": "https://localhost:8080/",
          "height": 53
        }
      },
      "source": [
        "model = CLRDecoder(True)\n",
        "model.load_state_dict(state['model'])\n",
        "\n",
        "test_its = 100000000\n",
        "sigmoid = nn.Sigmoid()\n",
        "\n",
        "accs = []\n",
        "naive_accs = []\n",
        "for i, (x, y) in zip(range(test_its), loader):\n",
        "  # pred = torch.stack(model(x)).permute(1, 0, 2).argmax(dim=2)\n",
        "  pred = sigmoid(model(x))\n",
        "  # print(\"Predicted:\")\n",
        "  # print((pred > 0.5).int().tolist())\n",
        "  # print(\"Actual\")\n",
        "  # print(y.tolist())\n",
        "\n",
        "  diff = (pred > 0.5).int().eq(y)\n",
        "  acc = diff.sum().item() / diff.numel()\n",
        "  accs.append(acc)\n",
        "\n",
        "  num_tg_ones = y.sum().item()\n",
        "  naive_acc = 1 - (num_tg_ones / diff.numel())\n",
        "  naive_accs.append(naive_acc)\n",
        "print(f\"Accuracy: {np.average(accs)}\")\n",
        "print(f\"Naive acc would be {np.average(naive_acc)}\")\n"
      ],
      "execution_count": 0,
      "outputs": [
        {
          "output_type": "stream",
          "text": [
            "Accuracy: 0.8930730750879703\n",
            "Naive acc would be 0.7833333333333333\n"
          ],
          "name": "stdout"
        }
      ]
    },
    {
      "cell_type": "code",
      "metadata": {
        "id": "lENARLX1EG4Y",
        "colab_type": "code",
        "colab": {}
      },
      "source": [
        ""
      ],
      "execution_count": 0,
      "outputs": []
    }
  ]
}